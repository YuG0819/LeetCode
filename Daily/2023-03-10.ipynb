{
 "cells": [
  {
   "attachments": {},
   "cell_type": "markdown",
   "metadata": {},
   "source": [
    "[1590. 使数组和能被 P 整除](https://leetcode.cn/problems/make-sum-divisible-by-p/)"
   ]
  },
  {
   "attachments": {},
   "cell_type": "markdown",
   "metadata": {},
   "source": [
    "#### 题目描述\n",
    "##### 给你一个正整数数组 $nums$，请你移除 最短 子数组（可以为 空），使得剩余元素的 和 能被 $p$ 整除。 不允许 将整个数组都移除。请你返回你需要移除的最短子数组的长度，如果无法满足题目要求，返回 $-1$ 。子数组 定义为原数组中连续的一组元素。"
   ]
  },
  {
   "cell_type": "code",
   "execution_count": 3,
   "metadata": {},
   "outputs": [
    {
     "data": {
      "text/plain": [
       "0"
      ]
     },
     "execution_count": 3,
     "metadata": {},
     "output_type": "execute_result"
    }
   ],
   "source": [
    "# tips：\n",
    "\n",
    "#     1 <= nums.length <= 105\n",
    "#     1 <= nums[i] <= 109\n",
    "#     1 <= p <= 109\n",
    "\n",
    "\n",
    "from typing import List\n",
    "class Solution:\n",
    "    def minSubarray(self, nums: List[int], p: int) -> int:\n",
    "        x = sum(nums) % p\n",
    "        if x == 0:\n",
    "            return 0\n",
    "        y = 0\n",
    "        index = {0: -1}\n",
    "        ans = len(nums)\n",
    "        for i, v in enumerate(nums):\n",
    "            y = (y + v) % p\n",
    "            if (y - x) % p in index:\n",
    "                ans = min(ans, i - index[(y - x) % p])\n",
    "            index[y] = i\n",
    "        return ans if ans < len(nums) else -1\n",
    "\n",
    "\n",
    "\n",
    "nums = [3,1,4,2]\n",
    "p = 6\n",
    "S = Solution()\n",
    "S.minSubarray(nums,p)"
   ]
  },
  {
   "attachments": {},
   "cell_type": "markdown",
   "metadata": {},
   "source": [
    "#### 解题思路： 前缀和？？？"
   ]
  }
 ],
 "metadata": {
  "kernelspec": {
   "display_name": "venv",
   "language": "python",
   "name": "python3"
  },
  "language_info": {
   "codemirror_mode": {
    "name": "ipython",
    "version": 3
   },
   "file_extension": ".py",
   "mimetype": "text/x-python",
   "name": "python",
   "nbconvert_exporter": "python",
   "pygments_lexer": "ipython3",
   "version": "3.8.10"
  },
  "orig_nbformat": 4,
  "vscode": {
   "interpreter": {
    "hash": "13317710dd7a78286f4216f820c1310aafa6338b99ab62a934bc4e8705351bab"
   }
  }
 },
 "nbformat": 4,
 "nbformat_minor": 2
}
