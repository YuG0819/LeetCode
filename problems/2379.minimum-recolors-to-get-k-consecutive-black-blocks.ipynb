{
 "cells": [
  {
   "attachments": {},
   "cell_type": "markdown",
   "metadata": {},
   "source": [
    "[2379. 得到 K 个黑块的最少涂色次数](https://leetcode.cn/problems/minimum-recolors-to-get-k-consecutive-black-blocks/)"
   ]
  },
  {
   "attachments": {},
   "cell_type": "markdown",
   "metadata": {},
   "source": [
    "#### 题目描述\n",
    "##### 给你一个长度为 n 下标从 0 开始的字符串 $blocks$ ，$blocks[i]$ 要么是 $'W'$ 要么是 $'B'$ ，表示第 $i$ 块的颜色。字符 $'W'$ 和 $'B'$ 分别表示白色和黑色。给你一个整数 $k$ ，表示想要 连续 黑色块的数目。每一次操作中，你可以选择一个白色块将它 涂成 黑色块。请你返回至少出现 一次 连续 $k$ 个黑色块的 最少 操作次数。"
   ]
  },
  {
   "cell_type": "code",
   "execution_count": null,
   "metadata": {},
   "outputs": [],
   "source": [
    "# tips：\n",
    "\n",
    "#     n == blocks.length\n",
    "#     1 <= n <= 100\n",
    "#     blocks[i] 要么是 'W' ，要么是 'B' 。\n",
    "#     1 <= k <= n\n",
    "\n",
    "class Solution:\n",
    "    def minimumRecolors(self, blocks: str, k: int) -> int:\n",
    "        n = len(blocks)\n",
    "        minC = k\n",
    "        for index in range(0,n-k+1):\n",
    "            minC = min(blocks[index:index+k].count(\"W\"),minC)\n",
    "        return minC\n",
    "\n",
    "\n",
    "\n",
    "blocks = \"BWWWBB\"\n",
    "k = 6\n",
    "S = Solution()\n",
    "S.minimumRecolors(blocks,k)"
   ]
  },
  {
   "attachments": {},
   "cell_type": "markdown",
   "metadata": {},
   "source": [
    "##### 解题思路： 滑动窗口思想\n",
    "\n",
    "```python\n",
    "# 作者：力扣官方题解\n",
    "class Solution:\n",
    "    def minimumRecolors(self, blocks: str, k: int) -> int:\n",
    "        ans = inf \n",
    "        cnt = 0 \n",
    "        for i, ch in enumerate(blocks): \n",
    "            if ch == 'W':\n",
    "                cnt += 1\n",
    "            if i >= k and blocks[i-k] == 'W':\n",
    "                cnt -= 1\n",
    "            if i >= k - 1:\n",
    "                ans = min(ans, cnt)\n",
    "        return ans \n",
    "\n",
    "\n",
    "```\n"
   ]
  }
 ],
 "metadata": {
  "kernelspec": {
   "display_name": "venv",
   "language": "python",
   "name": "python3"
  },
  "language_info": {
   "codemirror_mode": {
    "name": "ipython",
    "version": 3
   },
   "file_extension": ".py",
   "mimetype": "text/x-python",
   "name": "python",
   "nbconvert_exporter": "python",
   "pygments_lexer": "ipython3",
   "version": "3.8.10"
  },
  "orig_nbformat": 4,
  "vscode": {
   "interpreter": {
    "hash": "13317710dd7a78286f4216f820c1310aafa6338b99ab62a934bc4e8705351bab"
   }
  }
 },
 "nbformat": 4,
 "nbformat_minor": 2
}
