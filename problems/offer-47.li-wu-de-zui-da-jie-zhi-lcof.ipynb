{
 "cells": [
  {
   "attachments": {},
   "cell_type": "markdown",
   "metadata": {},
   "source": [
    "\n",
    "[剑指 Offer 47. 礼物的最大价值](https://leetcode.cn/problems/li-wu-de-zui-da-jie-zhi-lcof/)\n",
    "#### 题目描述 \n",
    "##### 在一个 m*n 的棋盘的每一格都放有一个礼物，每个礼物都有一定的价值（价值大于 0）。你可以从棋盘的左上角开始拿格子里的礼物，并每次向右或者向下移动一格、直到到达棋盘的右下角。给定一个棋盘及其上面的礼物的价值，请计算你最多能拿到多少价值的礼物？\n"
   ]
  },
  {
   "attachments": {},
   "cell_type": "markdown",
   "metadata": {},
   "source": [
    "#### 动态规划\n",
    "##### 记 $f(i,j)$ 表示从棋盘的左上角走到位置 $(i,j)$,最多可以拿到的礼物的价值。<br />可以得到状态转移方程：$$f(i,j)←f(i−1,j)+grid(i,j)$$ $$f(i,j)←f(i,j−1)+grid(i,j)$$ 因此可以将 $f(i,j)$ 的初始值置为一个很小的值(例如 0)，在进行状态转移时不断地将 $f(i, j)$ 替换为更大的值.当 $i=j=0$ 时，两种状态转移方程都是无效的,有$f(0,0)=grid(0,0)$.\n",
    "\n"
   ]
  },
  {
   "cell_type": "code",
   "execution_count": null,
   "metadata": {},
   "outputs": [],
   "source": [
    "from typing import List\n",
    "\n",
    "class Solution:\n",
    "    def maxValue(self, grid: List[List[int]]) -> int:\n",
    "        m, n = len(grid), len(grid[0])\n",
    "        f = [[0] * n for _ in range(m)]\n",
    "\n",
    "        for i in range(m):\n",
    "            for j in range(n):\n",
    "                if i > 0:\n",
    "                    f[i][j] = max(f[i][j], f[i - 1][j])\n",
    "                if j > 0:\n",
    "                    f[i][j] = max(f[i][j], f[i][j - 1])\n",
    "                f[i][j] += grid[i][j]\n",
    "        \n",
    "        return f[m - 1][n - 1]\n",
    "\n",
    "grid = [\n",
    "  [1,3,1],\n",
    "  [1,5,1],\n",
    "  [4,2,1]\n",
    "]\n",
    "S = Solution()\n",
    "S.maxValue(grid)"
   ]
  },
  {
   "attachments": {},
   "cell_type": "markdown",
   "metadata": {},
   "source": [
    "##### 状态转移方程中，$f(i, j)$ 只会从 $f(i-1, j)$ 和 $f(i, j-1)$转移而来,思考如何减少空间复杂度\n",
    "```python\n",
    "class Solution:\n",
    "    def maxValue(self, grid: List[List[int]]) -> int:\n",
    "        m, n = len(grid), len(grid[0])\n",
    "        f = [[0] * n for _ in range(2)]\n",
    "\n",
    "        for i in range(m):\n",
    "            pos = i % 2\n",
    "            for j in range(n):\n",
    "                if i > 0:\n",
    "                    f[pos][j] = max(f[pos][j], f[1 - pos][j])\n",
    "                if j > 0:\n",
    "                    f[pos][j] = max(f[pos][j], f[pos][j - 1])\n",
    "                f[pos][j] += grid[i][j]\n",
    "        \n",
    "        return f[(m - 1) % 2][n - 1]\n",
    "\n",
    "```"
   ]
  }
 ],
 "metadata": {
  "kernelspec": {
   "display_name": "venv",
   "language": "python",
   "name": "python3"
  },
  "language_info": {
   "codemirror_mode": {
    "name": "ipython",
    "version": 3
   },
   "file_extension": ".py",
   "mimetype": "text/x-python",
   "name": "python",
   "nbconvert_exporter": "python",
   "pygments_lexer": "ipython3",
   "version": "3.8.10"
  },
  "orig_nbformat": 4,
  "vscode": {
   "interpreter": {
    "hash": "13317710dd7a78286f4216f820c1310aafa6338b99ab62a934bc4e8705351bab"
   }
  }
 },
 "nbformat": 4,
 "nbformat_minor": 2
}
